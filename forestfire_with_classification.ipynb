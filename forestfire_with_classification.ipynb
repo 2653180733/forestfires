{
  "nbformat": 4,
  "nbformat_minor": 0,
  "metadata": {
    "colab": {
      "name": "forestfire_with_classification.ipynb",
      "version": "0.3.2",
      "provenance": []
    },
    "kernelspec": {
      "name": "python3",
      "display_name": "Python 3"
    }
  },
  "cells": [
    {
      "metadata": {
        "id": "mhTDaEDLKDzS",
        "colab_type": "code",
        "colab": {}
      },
      "cell_type": "code",
      "source": [
        "import pandas as pd\n",
        "import numpy as np\n",
        "import matplotlib.pyplot as plt\n",
        "%matplotlib inline\n",
        "\n",
        "#importing the data set:\n",
        "dataframes = pd.read_csv(\"forestfires.csv\")\n",
        "\n",
        "#data proprocessing:\n",
        "\n",
        "#replacing string values by numerical values:\n",
        "dataframes.month.replace(('jan','feb','mar','apr','may','jun','jul','aug','sep','oct','nov','dec'),\n",
        "                        (1,2,3,4,5,6,7,8,9,10,11,12), inplace=True)\n",
        "dataframes.day.replace(('mon','tue','wed','thu','fri','sat','sun'),\n",
        "                       (1,2,3,4,5,6,7), inplace=True)\n",
        "from sklearn.model_selection import train_test_split\n",
        "# split original data into training and test set 80/20\n",
        "train, test = train_test_split(dataframes, test_size=0.2)\n",
        "\n",
        "# separate X and target for both train and test\n",
        "train_target = train.pop('area')\n",
        "test_target = test.pop('area')\n",
        "#convert from pd to np for easier modification\n",
        "train_target = np.array(train_target)\n",
        "test_target = np.array(test_target)\n",
        "train = np.array(train)\n",
        "test = np.array(test)\n",
        "#find all the nonzero indexes\n",
        "non_zero_areas = train_target.nonzero()\n",
        "#copy by values, without these every thing will be pass by reference\n",
        "#classification variables\n",
        "train_classification_target = 1*train_target\n",
        "train_classification = 1*train\n",
        "test_classification_target = 1*test_target\n",
        "test_classification = 1*test\n",
        "#regression variables\n",
        "train_regression_target = 1*train_target\n",
        "train_regression = 1*train\n",
        "test_regression_target = 1*test_target\n",
        "test_regression = 1*test\n",
        "#set all nonzero to 1\n",
        "for i in non_zero_areas:\n",
        "    train_classification_target[i] = 1;\n",
        "for i in test_target.nonzero():\n",
        "    test_classification_target[i] = 1   \n",
        "#perform preprocessing. refer to the main regression code for detail.\n",
        "from sklearn.preprocessing import StandardScaler, Normalizer\n",
        "ssc = StandardScaler()\n",
        "train_classification = ssc.fit_transform(train_classification)\n",
        "test_classification = ssc.transform(test_classification)\n",
        "\n",
        "nmc = Normalizer()\n",
        "train_classification = nmc.fit_transform(train_classification)\n",
        "test_classification = nmc.transform(test_classification)"
      ],
      "execution_count": 0,
      "outputs": []
    },
    {
      "metadata": {
        "id": "6ok-2qQiODiB",
        "colab_type": "code",
        "colab": {}
      },
      "cell_type": "code",
      "source": [
        "#Decision Tree\n",
        "from sklearn import tree\n",
        "clf = tree.DecisionTreeClassifier()\n",
        "clf = clf.fit(train_classification, train_classification_target)"
      ],
      "execution_count": 0,
      "outputs": []
    },
    {
      "metadata": {
        "id": "Rm35qo9hP75S",
        "colab_type": "code",
        "outputId": "a93685bf-6800-4f88-d5d6-09123604ed4a",
        "colab": {
          "base_uri": "https://localhost:8080/",
          "height": 139
        }
      },
      "cell_type": "code",
      "source": [
        "#SVM\n",
        "from sklearn import svm\n",
        "clfsvm = svm.SVC()\n",
        "clfsvm.fit(train_classification, train_classification_target)"
      ],
      "execution_count": 0,
      "outputs": [
        {
          "output_type": "stream",
          "text": [
            "/usr/local/lib/python3.6/dist-packages/sklearn/svm/base.py:196: FutureWarning: The default value of gamma will change from 'auto' to 'scale' in version 0.22 to account better for unscaled features. Set gamma explicitly to 'auto' or 'scale' to avoid this warning.\n",
            "  \"avoid this warning.\", FutureWarning)\n"
          ],
          "name": "stderr"
        },
        {
          "output_type": "execute_result",
          "data": {
            "text/plain": [
              "SVC(C=1.0, cache_size=200, class_weight=None, coef0=0.0,\n",
              "  decision_function_shape='ovr', degree=3, gamma='auto_deprecated',\n",
              "  kernel='rbf', max_iter=-1, probability=False, random_state=None,\n",
              "  shrinking=True, tol=0.001, verbose=False)"
            ]
          },
          "metadata": {
            "tags": []
          },
          "execution_count": 3
        }
      ]
    },
    {
      "metadata": {
        "id": "Pnr8CDS5P8oG",
        "colab_type": "code",
        "outputId": "95d7e714-f699-4270-e8cb-58c5ba81d0e5",
        "colab": {
          "base_uri": "https://localhost:8080/",
          "height": 136
        }
      },
      "cell_type": "code",
      "source": [
        "#NN\n",
        "from sklearn.neural_network import MLPClassifier\n",
        "clfnn = MLPClassifier(solver='lbfgs', alpha=1e-5, hidden_layer_sizes=(5, 2), random_state=1)\n",
        "clfnn.fit(train_classification, train_classification_target)"
      ],
      "execution_count": 0,
      "outputs": [
        {
          "output_type": "execute_result",
          "data": {
            "text/plain": [
              "MLPClassifier(activation='relu', alpha=1e-05, batch_size='auto', beta_1=0.9,\n",
              "       beta_2=0.999, early_stopping=False, epsilon=1e-08,\n",
              "       hidden_layer_sizes=(5, 2), learning_rate='constant',\n",
              "       learning_rate_init=0.001, max_iter=200, momentum=0.9,\n",
              "       n_iter_no_change=10, nesterovs_momentum=True, power_t=0.5,\n",
              "       random_state=1, shuffle=True, solver='lbfgs', tol=0.0001,\n",
              "       validation_fraction=0.1, verbose=False, warm_start=False)"
            ]
          },
          "metadata": {
            "tags": []
          },
          "execution_count": 4
        }
      ]
    },
    {
      "metadata": {
        "id": "K50Iz_HKQGCH",
        "colab_type": "code",
        "outputId": "9c5fb925-5142-4494-8332-89d2417b297a",
        "colab": {
          "base_uri": "https://localhost:8080/",
          "height": 190
        }
      },
      "cell_type": "code",
      "source": [
        "#Random Forest\n",
        "from sklearn import ensemble\n",
        "clfrf = ensemble.RandomForestClassifier()\n",
        "clfrf.fit(train_classification, train_classification_target)"
      ],
      "execution_count": 0,
      "outputs": [
        {
          "output_type": "stream",
          "text": [
            "/usr/local/lib/python3.6/dist-packages/sklearn/ensemble/forest.py:246: FutureWarning: The default value of n_estimators will change from 10 in version 0.20 to 100 in 0.22.\n",
            "  \"10 in version 0.20 to 100 in 0.22.\", FutureWarning)\n"
          ],
          "name": "stderr"
        },
        {
          "output_type": "execute_result",
          "data": {
            "text/plain": [
              "RandomForestClassifier(bootstrap=True, class_weight=None, criterion='gini',\n",
              "            max_depth=None, max_features='auto', max_leaf_nodes=None,\n",
              "            min_impurity_decrease=0.0, min_impurity_split=None,\n",
              "            min_samples_leaf=1, min_samples_split=2,\n",
              "            min_weight_fraction_leaf=0.0, n_estimators=10, n_jobs=None,\n",
              "            oob_score=False, random_state=None, verbose=0,\n",
              "            warm_start=False)"
            ]
          },
          "metadata": {
            "tags": []
          },
          "execution_count": 5
        }
      ]
    },
    {
      "metadata": {
        "id": "xUn0CH8aQzna",
        "colab_type": "code",
        "outputId": "e470be93-e112-43ba-eabd-fce1c8ac2bfe",
        "colab": {
          "base_uri": "https://localhost:8080/",
          "height": 153
        }
      },
      "cell_type": "code",
      "source": [
        "#accuracy of each model\n",
        "from sklearn.metrics import accuracy_score\n",
        "models = []\n",
        "models.append(('Decision Tree',clf))\n",
        "models.append(('SVM',clfsvm))\n",
        "models.append(('NN',clfnn))\n",
        "models.append(('Random Forest',clfrf))\n",
        "\n",
        "for name, mol in models:\n",
        "    print(name)\n",
        "    print(accuracy_score(mol.predict(test_classification), test_classification_target))"
      ],
      "execution_count": 0,
      "outputs": [
        {
          "output_type": "stream",
          "text": [
            "Decision Tree\n",
            "0.5096153846153846\n",
            "SVM\n",
            "0.5288461538461539\n",
            "NN\n",
            "0.5769230769230769\n",
            "Random Forest\n",
            "0.5576923076923077\n"
          ],
          "name": "stdout"
        }
      ]
    },
    {
      "metadata": {
        "id": "Z1bC61IZRT1W",
        "colab_type": "code",
        "outputId": "39fa80c3-272f-49a6-f29c-14098b346245",
        "colab": {
          "base_uri": "https://localhost:8080/",
          "height": 88
        }
      },
      "cell_type": "code",
      "source": [
        "#Tin Nguyen\n",
        "#remove all the zero values\n",
        "for i in np.where(train_regression_target==0):\n",
        "    train_regression = np.delete(train_regression, i, axis=0)\n",
        "    train_regression_target = np.delete(train_regression_target, i)\n",
        "for i in np.where(test_regression_target==0):\n",
        "    test_regression = np.delete(test_regression, i, axis=0)\n",
        "    test_regression_target = np.delete(test_regression_target, i)\n",
        "    \n",
        "#preprocessing\n",
        "ss = StandardScaler()\n",
        "train_regression = ss.fit_transform(train_regression)\n",
        "test_regression = ss.transform(test_regression)\n",
        "\n",
        "nm = Normalizer()\n",
        "train_regression = nm.fit_transform(train_regression)\n",
        "test_regression = nm.transform(test_regression)\n",
        "#fitting\n",
        "from sklearn.svm import SVR\n",
        "rgn = SVR()            \n",
        "rgn.fit(train_regression, train_regression_target)\n",
        "\n",
        "from sklearn.metrics import mean_absolute_error\n",
        "print(mean_absolute_error(rgn.predict(test_regression), test_regression_target))"
      ],
      "execution_count": 0,
      "outputs": [
        {
          "output_type": "stream",
          "text": [
            "10.950389680441672\n"
          ],
          "name": "stdout"
        },
        {
          "output_type": "stream",
          "text": [
            "/usr/local/lib/python3.6/dist-packages/sklearn/svm/base.py:196: FutureWarning: The default value of gamma will change from 'auto' to 'scale' in version 0.22 to account better for unscaled features. Set gamma explicitly to 'auto' or 'scale' to avoid this warning.\n",
            "  \"avoid this warning.\", FutureWarning)\n"
          ],
          "name": "stderr"
        }
      ]
    }
  ]
}